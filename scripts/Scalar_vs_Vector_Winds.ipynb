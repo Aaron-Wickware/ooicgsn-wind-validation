{
 "cells": [
  {
   "cell_type": "markdown",
   "id": "facfafbf-8b5d-47ec-9534-ab4e3f4697bb",
   "metadata": {},
   "source": [
    "# Wind Analysis\n",
    "\n",
    "This notebook outlines a good example of getting started for the wind analysis. It demonstrates a couple of new, powerful tools and an example of the processing and plotting.\n",
    "\n",
    "First, import the packages that we will be using. One new package we will be using is xarray. It is designed for working with oceanographic and other earth science datasets, particularly\n",
    "netCDF, HDF5 (common in satellite/NASA products), and other multi-dimensional data.\n",
    "It will also introduce matplotlib, a basic plotting library that produces nice looking graphs and figures"
   ]
  },
  {
   "cell_type": "code",
   "execution_count": null,
   "id": "6a091ce6-3aa8-4058-82c7-2aee0f6592d2",
   "metadata": {
    "tags": []
   },
   "outputs": [],
   "source": [
    "import os\n",
    "import numpy as np\n",
    "import pandas as pd\n",
    "import xarray as xr\n",
    "\n",
    "import matplotlib.pyplot as plt\n",
    "# This is so figures will display in the notebook without an explicit disp(figure)\n",
    "%matplotlib inline"
   ]
  },
  {
   "cell_type": "markdown",
   "id": "c08ae202-fd8f-429e-ac58-1532e6b3c1f3",
   "metadata": {},
   "source": [
    "### Example of Good Dataset: Southern Ocean Deployment 2 System 1\n",
    "First, we're going to load, examine, process, and plot an example of a \"good\" dataset from the Southern Ocean Surface Mooring Deployment 2 METBK 1 (reference designator: GS01SUMO-SBD11-05-METBKA0001)"
   ]
  },
  {
   "cell_type": "code",
   "execution_count": null,
   "id": "e31a744d-881e-4c0a-83d9-b62af340303b",
   "metadata": {
    "tags": []
   },
   "outputs": [],
   "source": [
    "# Load the dataset\n",
    "filepath = '/home/jovyan/wind_comparisons/data/modules/GS01SUMO/R00004/SWND233.nc'\n",
    "data = xr.open_dataset(filepath)\n",
    "\n",
    "# Examine the dataset\n",
    "data.load()"
   ]
  },
  {
   "cell_type": "markdown",
   "id": "cb99e718-a36f-4375-a54a-c9ddf5eb6b3b",
   "metadata": {},
   "source": [
    "Notice that the dataset has the following \"catgories\": **Dimensions**, **Coordinates**, **Data variables**, **Indexes**, and **Attributes**. You can read about what each of the categories means in the [xarray documentation](https://docs.xarray.dev/en/stable/user-guide/terminology.html).\n",
    "\n",
    "In order to reproduce the comparison of scalar wind speed against vector wind speed, we want to find which variables in the dataset represent those data. We can click on the ```Show/Hide Attributes``` button on the far side of each **Data variable** to read the _metadata_ about that variable and learn more about it. We can go ahead and click on _wspd_ variable and see that it is the Scalar averaged wind speed over one minute."
   ]
  },
  {
   "cell_type": "code",
   "execution_count": null,
   "id": "2be4603d-cbaa-42aa-9e18-1c23dd154bcc",
   "metadata": {
    "tags": []
   },
   "outputs": [],
   "source": [
    "data"
   ]
  },
  {
   "cell_type": "markdown",
   "id": "126f624a-9001-41ff-924a-3039629782a6",
   "metadata": {},
   "source": [
    "Similarly, we can click on the other data variable's attributes and learn that the other two variables we want are _wnde_, the East Wind vector value, and _wndn_, the North Wind vector value.\n",
    "\n",
    "There remains one more step before we can get to plotting a comparison, and that is to calculate the vector wind speed average for comparison with the scalar wind speed. If we remember Calculus, we know that:\n",
    "\n",
    "$$\n",
    "\\|{U}\\| = \\sqrt{u^{2} + v^{2}}\n",
    "$$\n",
    "\n",
    "where $\\|{U}\\|$ is the magnitude of the wind speed, $u$ is the eastward vector wind speed, and $v$ is the northward vector wind speed. So we can go ahead and calculate that:"
   ]
  },
  {
   "cell_type": "code",
   "execution_count": null,
   "id": "52c58a7f-ab0d-414f-acf3-d2c962adaae5",
   "metadata": {
    "tags": []
   },
   "outputs": [],
   "source": [
    "wvec = np.sqrt(data[\"wnde\"]**2 + data[\"wndn\"]**2)\n",
    "wvec"
   ]
  },
  {
   "cell_type": "markdown",
   "id": "55682e60-f17a-410f-b4b6-319f1f122249",
   "metadata": {},
   "source": [
    "And we can add the calculate vector wind speed to the dataset to make it easier to access and keep our workspace clean"
   ]
  },
  {
   "cell_type": "code",
   "execution_count": null,
   "id": "b1cacb4d-cbd4-48ff-b79a-36356a49b0ee",
   "metadata": {
    "tags": []
   },
   "outputs": [],
   "source": [
    "# Add the calculated results\n",
    "data[\"wvec\"] = wvec\n",
    "# Add some metadata so we can remember what we did\n",
    "data[\"wvec\"].attrs = {\n",
    "    'long_name': 'Vector Wind Speed',\n",
    "    'units': 'm/s',\n",
    "    'methodology': 'This is the magnitude of the east and north wind vectors'\n",
    "}"
   ]
  },
  {
   "cell_type": "code",
   "execution_count": null,
   "id": "6241495e-0054-4581-adad-5964808d4e07",
   "metadata": {
    "tags": []
   },
   "outputs": [],
   "source": [
    "data"
   ]
  },
  {
   "cell_type": "code",
   "execution_count": null,
   "id": "c96b9861-40d3-4dee-b6d1-709985793221",
   "metadata": {
    "tags": []
   },
   "outputs": [],
   "source": [
    "# Now we can go ahead and plot the data\n",
    "fig, ax = plt.subplots(figsize=(12, 12))\n",
    "\n",
    "# Create a one:one line\n",
    "x = np.arange(0, 31, 1)\n",
    "y = np.arange(0, 31, 1)\n",
    "\n",
    "# Plot the one:one line\n",
    "ax.plot(x, y, color=\"black\", linewidth=2)\n",
    "\n",
    "# Plot the comparison\n",
    "ax.plot(data[\"wspd\"], data[\"wvec\"], marker='o', linestyle='', color=\"red\", alpha=0.3) # Alpha controls transparency, 1=solid, 0=transparent\n",
    "\n",
    "# Set some limits on the figure\n",
    "ax.set_xlim((0,25))\n",
    "ax.set_ylim((0,25))\n",
    "\n",
    "# Add in title, axis labels, and grid lines\n",
    "ax.set_title(f'Southern Ocean Deployment 2 Sensor S/N {data.attrs[\"serial_number\"]}') # f-strings are a way to substitute a variable into a string and have it print out\n",
    "ax.set_xlabel('2-axis Sonic Winds (m/s) Scalar')\n",
    "ax.set_ylabel('2-axis Sonic Winds (m/s) VecAve')\n",
    "ax.grid()"
   ]
  },
  {
   "cell_type": "markdown",
   "id": "0e58bfcf-a863-4c7c-b81d-f445b35ef73c",
   "metadata": {
    "tags": []
   },
   "source": [
    "Great! We now have a comparison plot. But to reproduce what is in the report, we also want to calculate the median value and standard deviation for the vector wind average based on the scalar wind speed.\n",
    "\n",
    "In order to calculate these values, we are going to make use of the powerful [```groupby```](https://docs.xarray.dev/en/latest/user-guide/groupby.html#) method, which allows you to utilize the **split-apply-combine** strategy. Our strategy is going to be:\n",
    "1. Group the dataset by the _wspd_ data. We are going to split the dataset into equally-spaced bins based on the scalar wind speed data using the ```groupby_bins``` method in ```xarray```\n",
    "2. Apply calculations to the grouped data. We want the following values:\n",
    "    * Mean of _wspd_\n",
    "    * Median of _wvec_ ($\\text{med}(U)$)\n",
    "    * Mean of _wvec_ ($\\bar{U}$)\n",
    "    * Median standard deviation (msd) of _wvec_. This is calculated as:\n",
    "$$\n",
    "\\text{msd} = \\sqrt{ (\\bar{U} - \\text{med}(U))^{2} }\n",
    "$$\n",
    "\n",
    "3. Plot the data with the binned data"
   ]
  },
  {
   "cell_type": "code",
   "execution_count": null,
   "id": "a651e1a2-d7f8-4bb4-801c-f303cda89c66",
   "metadata": {
    "tags": []
   },
   "outputs": [],
   "source": [
    "# First, create the bins we want to group the data into\n",
    "bins = np.arange(0, 31, 1)\n",
    "bins"
   ]
  },
  {
   "cell_type": "markdown",
   "id": "ed94a4d2-2086-4430-a738-c2a510435ea2",
   "metadata": {},
   "source": [
    "Now group the data into the bins we defined above"
   ]
  },
  {
   "cell_type": "code",
   "execution_count": null,
   "id": "8178e542-79a2-4050-ab74-99b578c8cea0",
   "metadata": {
    "tags": []
   },
   "outputs": [],
   "source": [
    "grouped = data.groupby_bins(group='wspd', bins=bins)\n",
    "grouped"
   ]
  },
  {
   "cell_type": "markdown",
   "id": "f17b7b6d-4640-4b75-a6aa-f9f02d8b5310",
   "metadata": {},
   "source": [
    "Calculate our statistical values"
   ]
  },
  {
   "cell_type": "code",
   "execution_count": null,
   "id": "be39906f-f5c5-423c-ab4b-3e93c370cd94",
   "metadata": {
    "tags": []
   },
   "outputs": [],
   "source": [
    "# Start with mean of wspd\n",
    "wspd_avg = grouped.mean()['wspd']\n",
    "\n",
    "# Next is the median of the vector wind speed\n",
    "wvec_med = grouped.median()['wvec']"
   ]
  },
  {
   "cell_type": "code",
   "execution_count": null,
   "id": "b137cecf-02b6-441f-bd0f-101a7f5e0188",
   "metadata": {
    "tags": []
   },
   "outputs": [],
   "source": [
    "# To calculate the median standard deviation, we are going to have to write our own function to apply to the grouped data.\n",
    "def msd(grouped):\n",
    "    # First, calculate the mean of the vector winds\n",
    "    wvec_avg = grouped.mean()['wvec']\n",
    "    \n",
    "    # Next, calculate the median\n",
    "    wvec_med = grouped.median()['wvec']\n",
    "    \n",
    "    # Use those results to calculate the median standard deviation\n",
    "    med_std = np.sqrt((wvec_avg - wvec_med)**2)\n",
    "    \n",
    "    # Return the results - this is needed to get the result out of the function\n",
    "    return med_std"
   ]
  },
  {
   "cell_type": "code",
   "execution_count": null,
   "id": "af27eca8-6b29-4bc1-a360-909500a5a891",
   "metadata": {
    "tags": []
   },
   "outputs": [],
   "source": [
    "# Calculate the median standard deviation\n",
    "wvec_msd = msd(grouped)\n",
    "wvec_msd"
   ]
  },
  {
   "cell_type": "markdown",
   "id": "8e7c5fbc-a770-4d72-8aeb-773c36adeb13",
   "metadata": {},
   "source": [
    "Yay! We now have all of the necessary data to reproduce the figure from the report 3305-000207. So lets do it."
   ]
  },
  {
   "cell_type": "code",
   "execution_count": null,
   "id": "9403b185-2cbb-4832-9ca2-6242aef8dafe",
   "metadata": {
    "tags": []
   },
   "outputs": [],
   "source": [
    "fig, ax = plt.subplots(figsize=(12, 12))\n",
    "\n",
    "# Create a one:one line\n",
    "x = np.arange(0, 31, 1)\n",
    "y = np.arange(0, 31, 1)\n",
    "\n",
    "# Plot the one:one line\n",
    "ax.plot(x, y, color=\"black\", linewidth=2)\n",
    "\n",
    "# Plot the comparison\n",
    "ax.plot(data[\"wspd\"], data[\"wvec\"], marker='o', linestyle='', color=\"red\", alpha=0.3) # Alpha controls transparency, 1=solid, 0=transparent\n",
    "\n",
    "# Plot the bins with error bars\n",
    "ax.errorbar(x=wspd_avg, y=wvec_med, yerr=2*wvec_msd, fmt='o', linewidth=2, capsize=6)\n",
    "# Set some limits on the figure\n",
    "ax.set_xlim((0,25))\n",
    "ax.set_ylim((0,25))\n",
    "\n",
    "# Add in title, axis labels, and grid lines\n",
    "ax.set_title(f'Southern Ocean Deployment 2 Sensor S/N {data.attrs[\"serial_number\"]}') # f-strings are a way to substitute a variable into a string and have it print out\n",
    "ax.set_xlabel('2-axis Sonic Winds (m/s) Scalar')\n",
    "ax.set_ylabel('2-axis Sonic Winds (m/s) VecAve')\n",
    "ax.grid()"
   ]
  },
  {
   "cell_type": "markdown",
   "id": "ee111836-6431-491f-821b-951cd91fe919",
   "metadata": {},
   "source": [
    "Now we want to save the above figure. We'll do this to the same directory where we have the netCDF file. First we'll specify the filepath and create a figure name."
   ]
  },
  {
   "cell_type": "code",
   "execution_count": null,
   "id": "8196c5ee-ad54-42e7-a2ac-70f2ebfe353b",
   "metadata": {},
   "outputs": [],
   "source": [
    "# First come up with the figure filepath and filename\n",
    "dirname, basename = os.path.dirname(filepath), os.path.basename(filepath)\n",
    "# Replace the basename\n",
    "basename = basename.replace(\".nc\",\"\")\n",
    "\n",
    "# Use string concatentation to make the figure filepath\n",
    "figure_path = dirname + \"/\" + basename + \".png\"\n",
    "print(figure_path)"
   ]
  },
  {
   "cell_type": "markdown",
   "id": "1cde837a-41db-4666-b9a7-a116aed90ea1",
   "metadata": {
    "tags": []
   },
   "source": [
    "Save the figure"
   ]
  },
  {
   "cell_type": "code",
   "execution_count": null,
   "id": "7132d87e-12ae-4a72-8759-a9da3f74e724",
   "metadata": {
    "tags": []
   },
   "outputs": [],
   "source": [
    "fig.savefig(figure_path, format=\"png\", transparent=False, facecolor=\"white\", edgecolor=\"black\")"
   ]
  },
  {
   "cell_type": "code",
   "execution_count": null,
   "id": "6a83b472-10a9-4c3c-b231-6e40c57ad997",
   "metadata": {},
   "outputs": [],
   "source": []
  }
 ],
 "metadata": {
  "kernelspec": {
   "display_name": "Python 3 (ipykernel)",
   "language": "python",
   "name": "python3"
  },
  "language_info": {
   "codemirror_mode": {
    "name": "ipython",
    "version": 3
   },
   "file_extension": ".py",
   "mimetype": "text/x-python",
   "name": "python",
   "nbconvert_exporter": "python",
   "pygments_lexer": "ipython3",
   "version": "3.12.3"
  }
 },
 "nbformat": 4,
 "nbformat_minor": 5
}
