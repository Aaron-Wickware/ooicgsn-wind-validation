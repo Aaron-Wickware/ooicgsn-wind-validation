{
 "cells": [
  {
   "cell_type": "markdown",
   "id": "690c9ad8-309b-441a-9767-93885dec38c6",
   "metadata": {},
   "source": [
    "# Winds Measured at Ship Compared to Nearby Buoy\n",
    "\n",
    "## Example for Ocean Observatories Initiative Irminger Sea Cruise and Buoy turn from Deployment 10 to 11"
   ]
  },
  {
   "cell_type": "markdown",
   "id": "6102f229-79db-4a03-91d8-b6bf1cf2902f",
   "metadata": {},
   "source": [
    "This notebook compares the Ocean Observatories Initiative Irminger 11 Deployment buoy and ship wind sensor comparison. During this analysis, you will compare six different instruments attached to buoys and two sensors attached to the ship. \n",
    "\n",
    "* METBK 1 deployment 10 (Instrument: Gill 2-axis - new firmware)\n",
    "* METBK 1 deployment 11 (Instrument: Gill 2-axis - old firmware)\n",
    "* METBK 2 deployment 11 (Instrument: RM Young)\n",
    "* FDCHP  deployment 11 (Instrument: Gill R3 3-axis)\n",
    "* Ship Port and Starboard Sensors (Vaisala WXT520)\n",
    "\n",
    "\n",
    "520)\r\n",
    "\n"
   ]
  },
  {
   "cell_type": "markdown",
   "id": "da0f88d0-4796-46c9-bfb3-7573465e64c1",
   "metadata": {},
   "source": [
    "### Preconditions:\n",
    "\n",
    "- Imput files that for ship MET data\n",
    "- \n"
   ]
  },
  {
   "cell_type": "markdown",
   "id": "27809c49-ac62-4e83-a05f-31cafdf8ecc5",
   "metadata": {},
   "source": [
    "### Imput files:\n",
    "- Ship MET.csv files\n",
    "- Ship MET.txt files"
   ]
  },
  {
   "cell_type": "markdown",
   "id": "5acc3fec-58ee-43a8-a4da-01d86265b864",
   "metadata": {},
   "source": [
    "### Output\n",
    "\n",
    "- Plots used for inspections along with well writen workflow\n",
    "- Hourly plot of Ship and Buoy sensors with standard deviation for comparisons"
   ]
  },
  {
   "cell_type": "code",
   "execution_count": null,
   "id": "7e00fbc4-0483-4fd9-8407-52597c1cd75c",
   "metadata": {
    "tags": []
   },
   "outputs": [],
   "source": [
    "# Import the necessary packages\n",
    "import os\n",
    "import numpy as np\n",
    "import pandas as pd\n",
    "import xarray as xr\n",
    "import csv\n",
    "from os import path\n",
    "# Import typing for function docstrings\n",
    "import typing\n",
    "from typing import Union, Tuple, List\n",
    "import numpy.typing as npt"
   ]
  },
  {
   "cell_type": "markdown",
   "id": "7b62017c-88b6-4efb-bd3c-87a074eacbcf",
   "metadata": {},
   "source": [
    "### Load the ship met data\n",
    "I wrote a module of functions (the underway.py file) to parse and load the underway data. So we'll import those functions and use them to get the data into a nice dataset"
   ]
  },
  {
   "cell_type": "code",
   "execution_count": null,
   "id": "e99273c1-39ff-468a-8efb-528336331c47",
   "metadata": {
    "tags": []
   },
   "outputs": [],
   "source": [
    "from underway import *"
   ]
  },
  {
   "cell_type": "code",
   "execution_count": null,
   "id": "0126c133-3cf9-45f5-8f31-2cd3bee53393",
   "metadata": {
    "tags": []
   },
   "outputs": [],
   "source": [
    "# Enter in the directory you like the file to be located.\n",
    "ship_dir = \"/Users/aaron.wickware/Documents/PEP2024/Irminger_Sea-11/Irminger_Sea-11\"\n",
    "ship_met_files = sorted([\"/\".join((ship_dir, x)) for x in os.listdir(ship_dir) if x.endswith('.csv')])\n",
    "met_headers = [\"/\".join((ship_dir, x)) for x in os.listdir(ship_dir) if 'MET_X' in x]\n",
    "par_header = \"/\".join((ship_dir, 'MET_PAR.txt'))\n",
    "rad_header = \"/\".join((ship_dir, 'MET_RAD.txt'))\n",
    "\n",
    "# Parse the underway data\n",
    "underway = parse_ship_met_data(ship_met_files, ATTRS, met_headers=met_headers, par_header=par_header, rad_header=rad_header)\n",
    "underway"
   ]
  },
  {
   "cell_type": "code",
   "execution_count": null,
   "id": "975423af-bec8-42c4-896f-ea157e926f1a",
   "metadata": {},
   "outputs": [],
   "source": [
    "met_headers"
   ]
  },
  {
   "cell_type": "code",
   "execution_count": null,
   "id": "e19dcd19-ef54-4196-98ef-cf549938b044",
   "metadata": {
    "tags": []
   },
   "outputs": [],
   "source": [
    "import matplotlib.pyplot as plt\n",
    "%matplotlib inline"
   ]
  },
  {
   "cell_type": "code",
   "execution_count": null,
   "id": "d969979a-f94b-4f9a-ae8e-2d9ac32ca7fb",
   "metadata": {},
   "outputs": [],
   "source": [
    "colors = ['#377eb8','#ff7f00','#FFC20A','#00ffff','#CC79A7','#4B0092']"
   ]
  },
  {
   "cell_type": "code",
   "execution_count": null,
   "id": "3ea65810-69d8-48f9-92d5-5d10a4807205",
   "metadata": {
    "tags": []
   },
   "outputs": [],
   "source": [
    "# Plot a timeseries of the ship observations\n",
    "fig, ax = plt.subplots(figsize=(12, 8))\n",
    "\n",
    "ax.plot(underway[\"time\"], underway[\"wind_speed_starboard\"], marker=\".\", linestyle=\"\", label=\"Starboard Wind Sensor (Vaisala WXT520)\", color=colors[2])\n",
    "ax.plot(underway[\"time\"], underway[\"wind_speed_port\"], marker=\".\", linestyle=\"\", label=\"Port Wind Sensor (Vaisala WXT520)\",color=colors[1])\n",
    "ax.legend()\n",
    "ax.set_title('Irminger 11 Ship Wind Observations', fontsize=16)\n",
    "ax.set_ylabel('Wind Speed (m/s)')\n",
    "ax.grid()\n",
    "\n",
    "fig.autofmt_xdate()"
   ]
  },
  {
   "cell_type": "markdown",
   "id": "4f4517bf-6e60-4276-8b57-cb254a06cb54",
   "metadata": {},
   "source": [
    "## Irminger Buoy Data"
   ]
  },
  {
   "cell_type": "code",
   "execution_count": null,
   "id": "8a69a789-fe5d-42d8-afc6-9fcc7096f57b",
   "metadata": {
    "tags": []
   },
   "outputs": [],
   "source": [
    "from erddapy import ERDDAP"
   ]
  },
  {
   "cell_type": "markdown",
   "id": "923c5988-a347-430a-a6ef-44bbd56b3b45",
   "metadata": {},
   "source": [
    "Next, we want to connect to the ERDDAP server which has the telemetered data. Since the data is not yet being ingested into the public-facing OOI Data Explorer, we're going to access the data via the OMS++ system. OMS is the internal operators dashboard which contains much of the same data. We will search for and download the data on the OMS++ erddap server."
   ]
  },
  {
   "cell_type": "code",
   "execution_count": null,
   "id": "8bb145dc-ed0f-431b-88c5-8b992518dd6a",
   "metadata": {
    "tags": []
   },
   "outputs": [],
   "source": [
    "oms = ERDDAP(\n",
    "    server=\"https://cgsn-dashboard.whoi.edu/erddap/\",\n",
    "    protocol=\"tabledap\",\n",
    ")"
   ]
  },
  {
   "cell_type": "markdown",
   "id": "70752317-b6c4-49aa-b6a5-03d94a1f62f6",
   "metadata": {
    "tags": []
   },
   "source": [
    "Now that we're connected to the ERDDAP server, we want to search for the available datasets"
   ]
  },
  {
   "cell_type": "code",
   "execution_count": null,
   "id": "112a6953-848b-47ae-8e33-e1285092089a",
   "metadata": {
    "tags": []
   },
   "outputs": [],
   "source": [
    "search_url = oms.get_search_url(response=\"csv\")\n",
    "search = pd.read_csv(search_url)\n",
    "datasets = search[\"Dataset ID\"]\n",
    "datasets"
   ]
  },
  {
   "cell_type": "markdown",
   "id": "be3f7405-908c-461f-ae12-3880c842a334",
   "metadata": {},
   "source": [
    "Wow. That is a lot of datasets that are availabe for download/access via OMS++. We need to figure out which one is for our data. We'll look for the array \"GI01SUMO\" and the instrument \"METBK\" to be in the dataset name/id"
   ]
  },
  {
   "cell_type": "code",
   "execution_count": null,
   "id": "30eebc28",
   "metadata": {},
   "outputs": [],
   "source": [
    "for d in datasets:\n",
    "    if \"GI01SUMO\" in d.upper() and \"METBK\" in d.upper():\n",
    "        print(d)"
   ]
  },
  {
   "cell_type": "markdown",
   "id": "a66ef516",
   "metadata": {},
   "source": [
    "We also want to find the FDCHP instrument (Direct Flux Covariance) which also measures wind speed using a three-axis sonic anemometer"
   ]
  },
  {
   "cell_type": "code",
   "execution_count": null,
   "id": "186f1a40",
   "metadata": {},
   "outputs": [],
   "source": [
    "for d in datasets:\n",
    "    if \"GI01SUMO\" in d.upper() and \"FDCHP\" in d.upper():\n",
    "        print(d)"
   ]
  },
  {
   "cell_type": "markdown",
   "id": "187360b6",
   "metadata": {},
   "source": [
    "So the Irminger buoy has two datasets: METBK 1 and METBK 2. Additionally, during mooring turns, the _new_ buoy is deployed before the _old_ buoy is recovered. This means that there is a period of time when two buoys, and thus four wind sensors, were in the water. Combined with the ship observations, this makes for six datasets for comparison. So we want to query for the following Datasets:\n",
    "* GI01SUMO-BUOY-METBK-01-1: Deployment 10 (D0010) & Deployment 11 (D0011)\n",
    "* GI01SUMO-BUOY-METBK-02-1: Deployment 10 (D0010) & Deployment 11 (D0011)\n",
    "* GI01SUMO-BUOY-FDCHP-01-1: Deployment 10 (D0010) & Deployment 11 (D0011)\n",
    "\n",
    "If we just query the OMS++ ERDDAP server for a given dataset id (e.g. GI01SUMO-BUOY-METBK-01-1) that will provide us _all_ of the data for that dataset available from OMS++. However, we only want data for a given deployment number and for the times which overlap the ship observations. We can pass in constraints to the ERDDAP server to limit what data we get back. The constraints we want to use are:\n",
    "* deploy_id=\n",
    "* time>=\n",
    "* time<=\n",
    "where deploy_id is a given deployment (e.g. D0010) the times are the bounding start and end times for the data, passed in using the format \"YYYY-mm-ddTHH:MM:SS\".\n",
    "\n",
    "First, get the time limits of the ship observations:"
   ]
  },
  {
   "cell_type": "code",
   "execution_count": null,
   "id": "ac085c0b",
   "metadata": {},
   "outputs": [],
   "source": [
    "startTime = underway.time.min()\n",
    "stopTime = underway.time.max()"
   ]
  },
  {
   "cell_type": "markdown",
   "id": "d610fa80",
   "metadata": {},
   "source": [
    "Next, lets get the METBK-01-1 dataset for deployment 10:"
   ]
  },
  {
   "cell_type": "code",
   "execution_count": null,
   "id": "52dc709f",
   "metadata": {},
   "outputs": [],
   "source": [
    "# Set the constraints\n",
    "oms.dataset_id = \"GI01SUMO-BUOY-FDCHP-01-1\"\n",
    "oms.constraints = {\n",
    "    \"deploy_id=\": \"D0011\",\n",
    "    \"time>=\": '2024-06-02T00:00:01',\n",
    "    \"time<=\": '2024-06-12T00:00:01'\n",
    "}\n",
    "\n",
    "# Convert the data to a pandas dataframe indexed by time\n",
    "d11_fdchp1 = oms.to_pandas(index_col='time (UTC)', parse_dates=True)\n",
    "d11_fdchp1"
   ]
  },
  {
   "cell_type": "code",
   "execution_count": null,
   "id": "e819bbfa",
   "metadata": {},
   "outputs": [],
   "source": [
    "# Now lets get the rest of the datasets\n",
    "oms.dataset_id = \"GI01SUMO-BUOY-METBK-01-1\"\n",
    "oms.constraints = {\n",
    "    \"deploy_id=\": \"D0010\",\n",
    "    \"time>=\": '2024-06-10T00:00:00',\n",
    "    \"time<=\": '2024-06-11T07:00:00'\n",
    "}\n",
    "\n",
    "\n",
    "d10_metbk1 = oms.to_pandas(index_col='time (UTC)', parse_dates=True)\n",
    "d10_metbk1"
   ]
  },
  {
   "cell_type": "code",
   "execution_count": null,
   "id": "ccda1ede-98ea-4569-88f5-a8b3cdefd08a",
   "metadata": {},
   "outputs": [],
   "source": [
    "oms.dataset_id = \"GI01SUMO-BUOY-METBK-01-1\"\n",
    "oms.constraints = {\n",
    "    \"deploy_id=\": \"D0011\",\n",
    "    \"time>=\": '2024-06-10T00:00:00',\n",
    "    \"time<=\": '2024-06-11T07:00:00'\n",
    "}\n",
    "\n",
    "d11_metbk1 = oms.to_pandas(index_col='time (UTC)', parse_dates=True)\n",
    "d11_metbk1"
   ]
  },
  {
   "cell_type": "markdown",
   "id": "38c7da92-ed48-4fa3-a302-0a5e7a7cee40",
   "metadata": {},
   "source": [
    "## "
   ]
  },
  {
   "cell_type": "code",
   "execution_count": null,
   "id": "ee6d8fc0-8105-4f37-9227-d8210625a8cb",
   "metadata": {},
   "outputs": [],
   "source": [
    "oms.dataset_id = \"GI01SUMO-BUOY-METBK-02-1\"\n",
    "oms.constraints = {\n",
    "    \"deploy_id=\": \"D0011\",\n",
    "    \"time>=\": '2024-06-10T00:00:00',\n",
    "    \"time<=\": '2024-06-11T07:00:00'\n",
    "}\n",
    "\n",
    "d11_metbk2 = oms.to_pandas(index_col='time (UTC)', parse_dates=True)\n",
    "d11_metbk2"
   ]
  },
  {
   "cell_type": "code",
   "execution_count": null,
   "id": "74b175b7-7c8b-4100-a80f-5e030ccd3d46",
   "metadata": {},
   "outputs": [],
   "source": [
    "oms.dataset_id = \"GI01SUMO-BUOY-FDCHP-01-1\"\n",
    "oms.constraints = {\n",
    "    \"deploy_id=\": \"D0011\",\n",
    "    \"time>=\": '2024-06-10T00:00:00',\n",
    "    \"time<=\": '2024-06-11T07:00:00'\n",
    "}\n",
    "\n",
    "d11_fdchp1 = oms.to_pandas(index_col='time (UTC)', parse_dates=True)\n",
    "d11_fdchp1"
   ]
  },
  {
   "cell_type": "markdown",
   "id": "99db9f69-ceeb-491c-a989-a6cad6b544c3",
   "metadata": {},
   "source": [
    "Before we plot we need to calculate the wind speed from our METBK1 and METBK2 eastward and northward vectors.\n",
    "\n",
    "$$\r\n",
    "\\|{U}\\| = \\sqrt{u^{2} + v^{2}}\r\n",
    "$$\n",
    "\n",
    "Remember where $\\|{U}\\|$ is the magnitude of the wind speed, $u$ is the eastward vector wind speed, and $v$ is the northward vector wind speed. So we can go ahead and calculate ttha\n",
    "\n",
    "Note: FDCHP will provide wind speed instead of the vectors so we will not need to calculatitt:"
   ]
  },
  {
   "cell_type": "code",
   "execution_count": null,
   "id": "244162ee-553d-4240-99af-2c9d5f65cb27",
   "metadata": {},
   "outputs": [],
   "source": [
    "wspd_METBK1_D10 = np.sqrt(d10_metbk1[\"northward_wind_velocity (m s-1)\"]**2 + d10_metbk1[\"eastward_wind_velocity (m s-1)\"]**2)\n",
    "wspd_METBK1_D10"
   ]
  },
  {
   "cell_type": "code",
   "execution_count": null,
   "id": "e1a931f0-902c-4063-a3f8-225b3ccc74a4",
   "metadata": {},
   "outputs": [],
   "source": [
    "wspd_METBK1_D11 = np.sqrt(d11_metbk1[\"northward_wind_velocity (m s-1)\"]**2 + d11_metbk1[\"eastward_wind_velocity (m s-1)\"]**2)\n",
    "wspd_METBK1_D11"
   ]
  },
  {
   "cell_type": "code",
   "execution_count": null,
   "id": "2d476551-4f0c-4b3d-80f0-aaa9c7ff5c3d",
   "metadata": {},
   "outputs": [],
   "source": [
    "wspd_METBK2_D11 = np.sqrt(d11_metbk2[\"northward_wind_velocity (m s-1)\"]**2 + d11_metbk2[\"eastward_wind_velocity (m s-1)\"]**2)\n",
    "wspd_METBK2_D11"
   ]
  },
  {
   "cell_type": "code",
   "execution_count": null,
   "id": "658b5888-3e71-4eff-b926-240013106334",
   "metadata": {},
   "outputs": [],
   "source": [
    "# Add the calculated results\n",
    "d10_metbk1['wspd_METBK1_D10'] = wspd_METBK1_D10\n",
    "d11_metbk1['wspd_METBK1_D11'] = wspd_METBK1_D11\n",
    "d11_metbk2['wspd_METBK2_D11'] = wspd_METBK2_D11"
   ]
  },
  {
   "cell_type": "code",
   "execution_count": null,
   "id": "ac74b17f",
   "metadata": {},
   "outputs": [],
   "source": [
    "# Plot some comparison time series figures here (Use same colore for the whole notebook)\n",
    "fig, ax = plt.subplots(figsize=(12, 8))\n",
    "\n",
    "ax.plot(d10_metbk1.index, d10_metbk1[\"wspd_METBK1_D10\"], marker=\".\", linestyle=\"\", label=\"METBK1 d10 Gill 2-axis\",color=colors[0])\n",
    "ax.plot(d11_metbk1.index, d11_metbk1[\"wspd_METBK1_D11\"], marker=\".\", linestyle=\"\", label=\"METBK1 d11 Gill 2-axis\",color=colors[3])\n",
    "\n",
    "ax.legend()\n",
    "ax.set_title('Irminger 10 and 11 Buoy Wind Observations (METBK1)', fontsize=16)\n",
    "ax.set_ylabel('Wind Speed (m/s)')\n",
    "ax.grid()\n",
    "\n",
    "fig.autofmt_xdate()"
   ]
  },
  {
   "cell_type": "code",
   "execution_count": null,
   "id": "c8719196-aaa7-498c-ba8e-ed8e8adabb40",
   "metadata": {},
   "outputs": [],
   "source": [
    "#examine the dataframe\n",
    "d11_fdchp1"
   ]
  },
  {
   "cell_type": "code",
   "execution_count": null,
   "id": "fd0dc224-7626-46a9-8094-c3ff19b2a3ad",
   "metadata": {},
   "outputs": [],
   "source": [
    "# Plot with all of our buoy data\n",
    "fig, ax = plt.subplots(figsize=(12, 8))\n",
    "\n",
    "ax.plot(d10_metbk1.index, d10_metbk1[\"wspd_METBK1_D10\"], marker=\".\", linestyle=\"\", label=\"METBK1 d10 Gill 2-axis\",color=colors[0])\n",
    "ax.plot(d11_metbk1.index, d11_metbk1[\"wspd_METBK1_D11\"], marker=\".\", linestyle=\"\", label=\"METBK1 d11 Gill 2-axis\", color=colors[3], alpha=0.6,)\n",
    "ax.plot(d11_fdchp1.index, d11_fdchp1[\"wind_speed\"], marker=\".\", linestyle=\"\", label=\"FDCHP d11 Gill R3 3-axis\", color=colors[4])\n",
    "ax.plot(d11_metbk2.index, d11_metbk2[\"wspd_METBK2_D11\"], marker=\".\", linestyle=\"\", label=\"METBK2 d11 RM Young\", color=colors[5], alpha = 0.3)\n",
    "\n",
    "ax.legend()\n",
    "ax.set_title('Irminger 10 and 11 Buoy Wind Observations', fontsize=16)\n",
    "ax.set_ylabel('Wind Speed (m/s)')\n",
    "ax.grid()\n",
    "\n",
    "fig.autofmt_xdate()"
   ]
  },
  {
   "cell_type": "markdown",
   "id": "dab02a6a",
   "metadata": {},
   "source": [
    "---\n",
    "### Adjust the data\n",
    "One complicating factor in making an comparisons between the ship and buoy wind data is that the ship data is measured from the ship mast which, on the Armstrong, is at 17.9 m height. In comparison, the buoy MET wind sensors are mounted on the mast of the buoy. The buoy deck sits 45 cm above the water line, while the wind sensors and FDCHP are mounted 540 cm above the buoy deck. So we need to correct for the height differences between the sensors on the Armstrong and the buoys. We do this by defining a function based on the COARE (Coupled Ocean-Atmosphere Response Experiment) 3.5 flux algorithms."
   ]
  },
  {
   "cell_type": "code",
   "execution_count": null,
   "id": "103ecb67",
   "metadata": {},
   "outputs": [],
   "source": [
    "# We first need to calculate the 10-meter wind speeds U10 and the friction-velocity u* (ustar)\n",
    "def dragNC35(z: Union[int, float], U: npt.NDArray[float]) -> Tuple[npt.NDArray[float], npt.NDArray[float]]:\n",
    "    \"\"\"\n",
    "    Calculate 10 meter winds and u* winds using COARE 3.5 algorithm\n",
    "    \n",
    "    Parameters\n",
    "    ----------\n",
    "    z: float\n",
    "        The height of the wind sensor in meters\n",
    "    U: float\n",
    "        The measured wind speed by the wind sensor\n",
    "\n",
    "    Returns\n",
    "    -------\n",
    "    U10: float\n",
    "        The 10 meter winds\n",
    "    Ustar: float\n",
    "        The friction velocity\n",
    "    \"\"\"\n",
    "\n",
    "    # Define constants\n",
    "    wstr = 0.2/1.2\n",
    "    ug = 0.2\n",
    "    von = 0.4\n",
    "    visc = 1.45E-5\n",
    "    umax = 19\n",
    "    a1 = 0.0017\n",
    "    a2 = -0.005\n",
    "    charnold = 0.011\n",
    "    rnn = 1/9\n",
    "\n",
    "    # Run the COARE 3.5 algorithm\n",
    "    # Initialize values\n",
    "    ut = np.sqrt(U*U + ug*ug)\n",
    "    us = 0.035*ut\n",
    "    charn=a1*ut + a2\n",
    "    mask = (charn > umax)\n",
    "    charn[mask] = a1*umax+a2\n",
    "    # Iterate 10 times, updating with each successive pass\n",
    "    i=0\n",
    "    while i<10:\n",
    "        z0 = visc/us*rnn + charn*us*us/9.8\n",
    "        us = ut*von/np.log(z/z0)\n",
    "        u10 = ut + us/von*np.log(10/z)\n",
    "        # Update the charn variable\n",
    "        mask = (u10 > umax)\n",
    "        charn[mask] = a1*umax + a2\n",
    "        charn[~mask] = a1*u10[~mask] + a2\n",
    "        # Calculate ustar\n",
    "        ustar = us\n",
    "        # Calculate 10m winds\n",
    "        U10 = ut + us/von*np.log(10/z)\n",
    "        # Update counter\n",
    "        i = i + 1\n",
    "\n",
    "    return U10, ustar\n",
    "\n",
    "# Next, we write a function which uses the u* values to adjust the heights\n",
    "def adjust_height(wspd: npt.NDArray[float], ustar: npt.NDArray[float], z: Union[int, float], z0: Union[int, float]) -> npt.NDArray[float]:\n",
    "    \"\"\"\n",
    "    Adjust the height of a wind sensor from height z to height z0\n",
    "    \n",
    "    Parameters\n",
    "    ----------\n",
    "    wspd: numpy.array[float]\n",
    "        An array of observed wind speeds at height z\n",
    "    ustar: numpy.array[float]\n",
    "        An array of ustar values for the associated wspd at height\n",
    "        z\n",
    "    z: int | float\n",
    "        Height at which the winds were observed in meters\n",
    "    z0: int | float\n",
    "        Height to adjust the observed wind speeds to in meters\n",
    "\n",
    "    Returns\n",
    "    -------\n",
    "    adjusted: numpy.array[float]\n",
    "        An array of the observed wind speeds adjusted from height z to height z0\n",
    "    \"\"\"\n",
    "\n",
    "    correction = (ustar/0.4)*np.log(z0/z)\n",
    "    adjusted = wspd + correction\n",
    "\n",
    "    return adjusted"
   ]
  },
  {
   "cell_type": "code",
   "execution_count": null,
   "id": "e07c71f7",
   "metadata": {},
   "outputs": [],
   "source": [
    "# Calculate the U10 and ustar \n",
    "U10, ustar = dragNC35(17.9, underway[\"wind_speed_starboard\"].values) # z = 17.9\n",
    "\n",
    "# Add the ustar to the underway data\n",
    "underway[\"friction_velocity_starboard\"] = ([\"time\"], ustar)\n",
    "underway[\"friction_velocity_starboard\"].attrs = {\n",
    "    'standard_name': 'friction_velocity',\n",
    "    'long_name': 'Friction Velocity - Starboard',\n",
    "    'units': 'm s-1',\n",
    "    'comment': ('Friction velocity is a reference wind velocity that relates the Reynold\\'s stress with the density. It is '\n",
    "                'applied to motion near the ground where the shearing stress is assumed to be independent of height and '\n",
    "                'proportional to the square of the mean velocity.')\n",
    "}\n",
    "\n",
    "# Repeat for the port sensor\n",
    "U10, ustar = dragNC35(17.9, underway[\"wind_speed_port\"].values)\n",
    "\n",
    "# Add the ustar to the underway data\n",
    "underway[\"friction_velocity_port\"] = ([\"time\"], ustar)\n",
    "underway[\"friction_velocity_port\"].attrs = {\n",
    "    'standard_name': 'friction_velocity',\n",
    "    'long_name': 'Friction Velocity - Port',\n",
    "    'units': 'm s-1',\n",
    "    'comment': ('Friction velocity is a reference wind velocity that relates the Reynold\\'s stress with the density. It is '\n",
    "                'applied to motion near the ground where the shearing stress is assumed to be independent of height and '\n",
    "                'proportional to the square of the mean velocity.')\n",
    "}"
   ]
  },
  {
   "cell_type": "code",
   "execution_count": null,
   "id": "0a4f880c",
   "metadata": {},
   "outputs": [],
   "source": [
    "# Calculate the adjusted wind speed\n",
    "wspd_starboard = underway[\"wind_speed_starboard\"]\n",
    "ustar_starboard = underway[\"friction_velocity_starboard\"]\n",
    "underway[\"adj_wind_speed_starboard\"] = adjust_height(wspd_starboard, ustar, 17.9, 5.85)\n",
    "underway[\"adj_wind_speed_starboard\"]\n",
    "\n",
    "# Repeat for the port sensor\n",
    "wspd_port = underway[\"wind_speed_port\"]\n",
    "ustar_port = underway[\"friction_velocity_port\"]\n",
    "underway[\"adj_wind_speed_port\"] = adjust_height(wspd_port, ustar, 17.9, 5.85)\n",
    "underway[\"adj_wind_speed_port\"]"
   ]
  },
  {
   "cell_type": "code",
   "execution_count": null,
   "id": "6353f13c-4e3c-46f5-b5e6-3462e7a2872a",
   "metadata": {},
   "outputs": [],
   "source": [
    "os.getcwd()"
   ]
  },
  {
   "cell_type": "code",
   "execution_count": null,
   "id": "dbfc5a65-10f6-47b9-ab53-326c9eb542eb",
   "metadata": {},
   "outputs": [],
   "source": [
    "!pip install h5netcdf"
   ]
  },
  {
   "cell_type": "markdown",
   "id": "a7d8e7b9-2df0-41fb-9ed8-0dd05db8c8ee",
   "metadata": {},
   "source": [
    "Now we have data that are directly comparable to each other. I would recommend saving your different datasets as new datasets locally so you don't have to go through the different data access steps. Now we are ready to begin analysis!"
   ]
  },
  {
   "cell_type": "code",
   "execution_count": null,
   "id": "9996b0ed-7fd1-495e-853f-c1f1936a6169",
   "metadata": {},
   "outputs": [],
   "source": [
    "# We are going to slice our \n",
    "underway.sel(time = slice('2024-06-10 00:00:00','2024-06-11 07:00:00'))"
   ]
  },
  {
   "cell_type": "code",
   "execution_count": null,
   "id": "53f000d4-8f38-48e8-8699-fdab3870174e",
   "metadata": {},
   "outputs": [],
   "source": [
    "underway_june10_june11 = underway.sel(time = slice('2024-06-10 00:00:00','2024-06-11 07:00:00'))"
   ]
  },
  {
   "cell_type": "code",
   "execution_count": null,
   "id": "09724c95-deb5-4ffd-a3cc-8570e9501f7b",
   "metadata": {},
   "outputs": [],
   "source": [
    "# Examine our adjusted data and plot\n",
    "underway_june10_june11"
   ]
  },
  {
   "cell_type": "code",
   "execution_count": null,
   "id": "b563fbfb-9bd7-478d-8354-ccb6d29145c2",
   "metadata": {},
   "outputs": [],
   "source": [
    "# Now let's plot our time series\n",
    "fig, ax = plt.subplots(figsize=(12, 8))\n",
    "\n",
    "ax.plot(underway_june10_june11[\"time\"], underway_june10_june11[\"adj_wind_speed_starboard\"], marker=\".\", linestyle=\"\", label=\"Adjusted Starboard Wind Sensor (Vaisala WXT520)\",color=colors[2])\n",
    "ax.plot(underway_june10_june11[\"time\"], underway_june10_june11[\"adj_wind_speed_port\"], marker=\".\", linestyle=\"\", label=\"Adjusted Port Wind Sensor (Vaisala WXT520)\",color=colors[1])\n",
    "\n",
    "ax.legend()\n",
    "ax.set_title('Irminger 11 Ship Wind Observations', fontsize=16)\n",
    "ax.set_ylabel('Wind Speed (m/s)')\n",
    "ax.grid()\n",
    "\n",
    "fig.autofmt_xdate()"
   ]
  },
  {
   "cell_type": "code",
   "execution_count": null,
   "id": "40334b69-ef29-46e3-a7a8-8ae9c37ade79",
   "metadata": {},
   "outputs": [],
   "source": [
    "# Plot a timeseries of the ship observations\n",
    "fig, ax = plt.subplots(figsize=(12, 8))\n",
    "\n",
    "ax.plot(underway_june10_june11[\"time\"], underway_june10_june11[\"adj_wind_speed_starboard\"], marker=\".\", linestyle=\"\", label=\"Starboard Wind Sensor (Vaisala WXT520)\",color=colors[2])\n",
    "ax.plot(underway_june10_june11[\"time\"], underway_june10_june11[\"adj_wind_speed_port\"], marker=\".\", linestyle=\"\", label=\"Port Wind Sensor (Vaisala WXT520)\",color=colors[1])\n",
    "ax.plot(d10_metbk1.index, d10_metbk1[\"wspd_METBK1_D10\"], marker=\".\", linestyle=\"\", label=\"METBK1 D10 (Gill 2-axis)\", color=colors[0])\n",
    "ax.plot(d11_metbk1.index, d11_metbk1[\"wspd_METBK1_D11\"], marker=\".\", linestyle=\"\", label=\"METBK1 D11 (Instrument: Gill 2-axis)\", color=colors[3])\n",
    "ax.plot(d11_fdchp1.index, d11_fdchp1[\"wind_speed\"], marker=\".\", linestyle=\"\", label=\"FDCHP D11 (Gill R3 3-axis)\", color=colors[4])\n",
    "ax.plot(d11_metbk2.index, d11_metbk2[\"wspd_METBK2_D11\"], marker=\".\", linestyle=\"\", label=\"METBK2 D11 (RM Young)\", color=colors[5], alpha = 0.6)\n",
    "\n",
    "\n",
    "ax.legend()\n",
    "ax.set_title('Irminger 11 Ship Wind Observations', fontsize=16)\n",
    "ax.set_ylabel('Wind Speed (m/s)')\n",
    "ax.grid()\n",
    "\n",
    "fig.autofmt_xdate()"
   ]
  },
  {
   "cell_type": "markdown",
   "id": "ff9b5e31-6062-4ead-a591-81517a8f21ea",
   "metadata": {},
   "source": [
    "Now we have a time series of all of data, how does it look? \n",
    "\n",
    "If your graph looks good then your done, but if you have some loose points we can try and take the mean of our data to try and clean up the graph and declutter a little bit."
   ]
  },
  {
   "cell_type": "code",
   "execution_count": null,
   "id": "c737f3d4-8ff9-4d85-823d-f62dbfa58950",
   "metadata": {},
   "outputs": [],
   "source": [
    "d11_metbk1"
   ]
  },
  {
   "cell_type": "markdown",
   "id": "53cae6b4-f92f-41ef-aa71-7f47db0b40bf",
   "metadata": {},
   "source": [
    "Note: if there are floats you will not be able resample the data or run the mean or std. functions, to fix this we want to drop all the qualitative columns in our data set: *Deployment Identification*.\n",
    "\n",
    "FDCHP will also have *Featured Deployment Name* so we will drop that one aswell."
   ]
  },
  {
   "cell_type": "code",
   "execution_count": null,
   "id": "d3b714b8-1670-43ba-b5d4-753d378ae615",
   "metadata": {},
   "outputs": [],
   "source": [
    "d11_fdchp = d11_fdchp1.drop(columns='deploy_id (1)')\n",
    "d11_fdchp"
   ]
  },
  {
   "cell_type": "code",
   "execution_count": null,
   "id": "630d0df3-cb5f-45cd-bf1d-483d0c07c837",
   "metadata": {},
   "outputs": [],
   "source": [
    "d11_fdchp = d11_fdchp.drop(columns='feature_type_instance')"
   ]
  },
  {
   "cell_type": "code",
   "execution_count": null,
   "id": "214fd941-6303-4bb8-9794-cea81f9f9db0",
   "metadata": {},
   "outputs": [],
   "source": [
    "underway_june10_june11"
   ]
  },
  {
   "cell_type": "code",
   "execution_count": null,
   "id": "145ff34a-328b-4004-b76e-8139d4b34427",
   "metadata": {},
   "outputs": [],
   "source": [
    "# Assign mean variable, assign std. variable.\n",
    "d11_metbk1_mean = d11_metbk1.drop(columns='deploy_id (1)').resample('1H').mean()\n",
    "d10_metbk1_mean = d10_metbk1.drop(columns='deploy_id (1)').resample('1H').mean()\n",
    "d11_metbk2_mean = d11_metbk2.drop(columns='deploy_id (1)').resample('1H').mean()"
   ]
  },
  {
   "cell_type": "code",
   "execution_count": null,
   "id": "2054bc09-444e-4c11-b3ec-46758923367e",
   "metadata": {},
   "outputs": [],
   "source": [
    "d11_metbk1_std = d11_metbk1.drop(columns='deploy_id (1)').resample('1H').std()\n",
    "d10_metbk1_std = d10_metbk1.drop(columns='deploy_id (1)').resample('1H').std()\n",
    "d11_metbk2_std = d11_metbk2.drop(columns='deploy_id (1)').resample('1H').std()"
   ]
  },
  {
   "cell_type": "code",
   "execution_count": null,
   "id": "1e83dac9-2a26-4fe2-b648-9da6360631ef",
   "metadata": {},
   "outputs": [],
   "source": [
    "d11_fdchp.columns\n",
    "d11_fdchp_mean=d11_fdchp.drop(columns='dcl_date_time_string (1)').resample('1H').mean()"
   ]
  },
  {
   "cell_type": "code",
   "execution_count": null,
   "id": "2abb32c0-a8ae-408f-a22a-734a0c694ed1",
   "metadata": {},
   "outputs": [],
   "source": [
    "d11_fdchp_std=d11_fdchp.drop(columns='dcl_date_time_string (1)').resample('1H').std()"
   ]
  },
  {
   "cell_type": "code",
   "execution_count": null,
   "id": "616a934d-8407-4ace-a1e2-efd44c436955",
   "metadata": {},
   "outputs": [],
   "source": [
    "underway_june10_june11_mean=underway_june10_june11.resample(time = '1H').mean()"
   ]
  },
  {
   "cell_type": "code",
   "execution_count": null,
   "id": "c5a1ed02-4122-4894-8cc7-a5abc937fcdc",
   "metadata": {},
   "outputs": [],
   "source": [
    "underway_june10_june11_std=underway_june10_june11.resample(time = '1H').std()"
   ]
  },
  {
   "cell_type": "code",
   "execution_count": null,
   "id": "067a002f-9467-473e-bed6-64b113a8cd4f",
   "metadata": {},
   "outputs": [],
   "source": [
    "underway_june10_june11_mean[\"time\"]"
   ]
  },
  {
   "cell_type": "code",
   "execution_count": null,
   "id": "b01137b1-8d4a-4571-9d01-c19af1db3958",
   "metadata": {},
   "outputs": [],
   "source": [
    "## Plot a timeseries of the ship observations averages (Red/Green colorblind friendly)\n",
    "fig, ax = plt.subplots(figsize=(12, 8))\n",
    "\n",
    "\n",
    "ax.plot(underway_june10_june11_mean[\"time\"], underway_june10_june11_mean[\"adj_wind_speed_starboard\"], marker=\".\", linestyle=\"\", label=\"Starboard Wind Sensor (Vaisala WXT520)\", color=colors[2])\n",
    "ax.plot(underway_june10_june11_mean[\"time\"], underway_june10_june11_mean[\"adj_wind_speed_port\"], marker=\".\", linestyle=\"\", label=\"Port Wind Sensor (Vaisala WXT520)\",color=colors[1])\n",
    "ax.plot(d10_metbk1_mean.index, d10_metbk1_mean[\"wspd_METBK1_D10\"], marker=\".\", linestyle=\"\", label=\"METBK1 D10 (Gill 2-axis)\",color=colors[0])\n",
    "ax.plot(d11_metbk1_mean.index, d11_metbk1_mean[\"wspd_METBK1_D11\"], marker=\".\", linestyle=\"\", label=\"METBK1 D11 (Gill 2-axis)\", color=colors[3])\n",
    "ax.plot(d11_fdchp_mean.index, d11_fdchp_mean[\"wind_speed\"], marker=\".\", linestyle=\"\", label=\"FDCHP D11 (Gill R3 3-axis)\", color=colors[4])\n",
    "ax.plot(d11_metbk2_mean.index, d11_metbk2_mean[\"wspd_METBK2_D11\"], marker=\".\", linestyle=\"\", label=\"METBK2 D11 (RM Young)\", color=colors[5])\n",
    "\n",
    "# Plot the Error\n",
    "ax.errorbar(x=d11_metbk1_mean.index,y=d11_metbk1_mean[\"wspd_METBK1_D11\"] , yerr=d11_metbk1_std[\"wspd_METBK1_D11\"],color=colors[3])\n",
    "ax.errorbar(x=d10_metbk1_mean.index,y=d10_metbk1_mean[\"wspd_METBK1_D10\"] , yerr=d10_metbk1_std[\"wspd_METBK1_D10\"], color=colors[0])\n",
    "ax.errorbar(x=d11_metbk2_mean.index,y=d11_metbk2_mean[\"wspd_METBK2_D11\"] , yerr=d11_metbk2_std[\"wspd_METBK2_D11\"], color=colors[5])\n",
    "ax.errorbar(x=d11_fdchp_mean.index,y=d11_fdchp_mean[\"wind_speed\"] , yerr=d11_fdchp_std[\"wind_speed\"], color=colors[4])\n",
    "ax.errorbar(x=underway_june10_june11_mean['time'].data, y=underway_june10_june11_mean[\"adj_wind_speed_starboard\"].data , yerr=underway_june10_june11_std[\"adj_wind_speed_starboard\"].data, color=colors[2])\n",
    "ax.errorbar(x=underway_june10_june11_mean['time'].data, y=underway_june10_june11_mean[\"adj_wind_speed_port\"].data , yerr=underway_june10_june11_std[\"adj_wind_speed_port\"].data, color=colors[1])\n",
    "\n",
    "ax.legend()\n",
    "ax.set_title('Irminger 11 Wind Observations Averages', fontsize=16)\n",
    "ax.set_ylabel('Wind Speed (m/s)')\n",
    "ax.grid()\n",
    "\n",
    "fig.autofmt_xdate()\n"
   ]
  },
  {
   "cell_type": "code",
   "execution_count": null,
   "id": "88a92a26-155d-4db9-aace-b5fa2dff9645",
   "metadata": {},
   "outputs": [],
   "source": [
    "file_path = path.abspath(\"/Users/aaron.wickware/Documents/PEP2024/Ship_buoy_comparisons.csv\")\n",
    "\n",
    "len(file_path)"
   ]
  },
  {
   "cell_type": "code",
   "execution_count": null,
   "id": "fd593d3b-78fc-438c-9569-2069dab5c8ba",
   "metadata": {
    "scrolled": true
   },
   "outputs": [],
   "source": [
    "underway_adj_wspd = underway_june10_june11_mean[['adj_wind_speed_starboard', 'adj_wind_speed_port']].to_dataframe()"
   ]
  },
  {
   "cell_type": "code",
   "execution_count": null,
   "id": "16496f70-9fc4-4e5a-ac0a-5113e8016560",
   "metadata": {},
   "outputs": [],
   "source": [
    "underway_adj_wspd.to_csv(file_path)"
   ]
  },
  {
   "cell_type": "code",
   "execution_count": null,
   "id": "0c7b8d4f-7e95-4c78-b711-46cffe17c9cb",
   "metadata": {},
   "outputs": [],
   "source": [
    "#--------------------------"
   ]
  },
  {
   "cell_type": "code",
   "execution_count": null,
   "id": "dda7ac6a-e9db-4ec6-ad38-105ccde67ca1",
   "metadata": {},
   "outputs": [],
   "source": [
    "#underway_june10_june11 = underway_june10_june11.resample(time = '1min').mean()"
   ]
  },
  {
   "cell_type": "code",
   "execution_count": null,
   "id": "47675e80-5812-408d-bdb4-7d432c236e15",
   "metadata": {},
   "outputs": [],
   "source": [
    "underway_june10_june11"
   ]
  },
  {
   "cell_type": "code",
   "execution_count": null,
   "id": "e404e248-aee0-46b5-bdab-167d7a0d9ebb",
   "metadata": {},
   "outputs": [],
   "source": [
    "underway_june10_june11 = underway_june10_june11[['adj_wind_speed_starboard', 'adj_wind_speed_port']].to_dataframe()"
   ]
  },
  {
   "cell_type": "code",
   "execution_count": null,
   "id": "c932eed2-3c4c-4dbe-8da0-24a66342870e",
   "metadata": {},
   "outputs": [],
   "source": [
    "file_path = path.abspath(\"/Users/aaron.wickware/Documents/PEP2024/underway_june10_june11.csv\")"
   ]
  },
  {
   "cell_type": "code",
   "execution_count": null,
   "id": "22c8f1c9-7556-49a1-a9c0-2e3bb93a6946",
   "metadata": {},
   "outputs": [],
   "source": [
    "underway_june10_june11_1min = underway_june10_june11[['adj_wind_speed_starboard', 'adj_wind_speed_port']].to_csv(file_path)"
   ]
  },
  {
   "cell_type": "code",
   "execution_count": null,
   "id": "c4ca4ee0-5f7b-4986-8a6b-1eafa767128c",
   "metadata": {},
   "outputs": [],
   "source": [
    "underway_june10_june11_1min"
   ]
  },
  {
   "cell_type": "code",
   "execution_count": null,
   "id": "0ef63a38-7292-4d85-82da-927c429629e7",
   "metadata": {},
   "outputs": [],
   "source": []
  }
 ],
 "metadata": {
  "kernelspec": {
   "display_name": "Python 3 (ipykernel)",
   "language": "python",
   "name": "python3"
  },
  "language_info": {
   "codemirror_mode": {
    "name": "ipython",
    "version": 3
   },
   "file_extension": ".py",
   "mimetype": "text/x-python",
   "name": "python",
   "nbconvert_exporter": "python",
   "pygments_lexer": "ipython3",
   "version": "3.12.3"
  }
 },
 "nbformat": 4,
 "nbformat_minor": 5
}
