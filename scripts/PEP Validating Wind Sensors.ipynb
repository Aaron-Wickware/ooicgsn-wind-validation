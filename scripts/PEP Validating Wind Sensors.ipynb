{
 "cells": [
  {
   "cell_type": "markdown",
   "id": "facfafbf-8b5d-47ec-9534-ab4e3f4697bb",
   "metadata": {
    "tags": []
   },
   "source": [
    "# Validating Wind Data\n",
    "\n",
    "This notebook will go through the steps taken to validate wind data and prove the sensor Gill 2-axis to be either accurate or undermeasuring data.\n",
    "\n",
    "First, import the packages that we will be using. One new package we will be using is xarray. It is designed for working with oceanographic and other earth science datasets, particularly\n",
    "netCDF, HDF5 (common in satellite/NASA products), and other multi-dimensional data.\n",
    "It will also introduce matplotlib, a basic plotting library that produces nice looking graphs and figures"
   ]
  },
  {
   "cell_type": "markdown",
   "id": "8d147bcd-8a57-458d-8bc1-459a43fc406a",
   "metadata": {},
   "source": [
    "### My steps\n",
    "* load my data sets\n",
    "* examine data sets\n",
    "* convert time column into a datetime object (timestamp)\n",
    "* set column 'date' to index\n",
    "* create time series plot\n",
    "\n",
    "    * interpolate to the resample 1H\n",
    "        *Calculate average and Std.\n",
    "    * merge average ship data\n",
    "\n",
    "* Create scatter plots ship x-axis and buoy y-axis\n",
    "    * examine time stamps for each comparison\n",
    "    * interpolate from highest frequency time to lowest frequency (highest to lowest)\n",
    "    * plot the comparisons"
   ]
  },
  {
   "cell_type": "code",
   "execution_count": 1,
   "id": "6a091ce6-3aa8-4058-82c7-2aee0f6592d2",
   "metadata": {
    "tags": []
   },
   "outputs": [],
   "source": [
    "import os\n",
    "import numpy as np\n",
    "import pandas as pd\n",
    "import xarray as xr\n",
    "\n",
    "\n",
    "import matplotlib.pyplot as plt\n",
    "# This is so figures will display in the notebook without an explicit disp(figure)\n",
    "%matplotlib inline"
   ]
  },
  {
   "cell_type": "code",
   "execution_count": null,
   "id": "89c2f221-d24d-48b6-b122-1182b44192bd",
   "metadata": {
    "tags": []
   },
   "outputs": [],
   "source": [
    "!pip install h5py"
   ]
  },
  {
   "cell_type": "code",
   "execution_count": null,
   "id": "e31a744d-881e-4c0a-83d9-b62af340303b",
   "metadata": {
    "tags": []
   },
   "outputs": [],
   "source": [
    "# Load the dataset\n",
    "METBK1_D11 = \"/home/jovyan/wind_comparison/Ship_Buoy_Comparison/d11_metbk1.csv\"\n",
    "METBK1_D11_data = pd.read_csv(METBK1_D11)\n",
    "\n",
    "METBK1_D10 = \"/home/jovyan/wind_comparison/Ship_Buoy_Comparison/d10_metbk1.csv\"\n",
    "METBK1_D10_data = pd.read_csv(METBK1_D10)\n",
    "\n",
    "METBK2_D11 = \"/home/jovyan/wind_comparison/Ship_Buoy_Comparison/d11_metbk2.csv\"\n",
    "METBK2_D11_data = pd.read_csv(METBK2_D11)\n",
    "\n",
    "FDCHP1_D11 = \"/home/jovyan/wind_comparison/Ship_Buoy_Comparison/d11_fdchp1.csv\"\n",
    "FDCHP1_D11_data = pd.read_csv(FDCHP1_D11)"
   ]
  },
  {
   "cell_type": "markdown",
   "id": "5ea5bb91-bbca-4232-a1b1-53cb1a6cdcfc",
   "metadata": {},
   "source": [
    "Here we are going to do a couple processes that includes a resample interpolation and assigning our data set to an index followed by merging our data set with mathcing time series and finally calculating the magnitute from wind directions.\n",
    "\n",
    "We can do this in preperation to graphing so we are going to do this process for all data sets prior to graphing."
   ]
  },
  {
   "cell_type": "code",
   "execution_count": null,
   "id": "ebe4f326-7757-4956-af44-2fb18cce015c",
   "metadata": {
    "tags": []
   },
   "outputs": [],
   "source": [
    "METBK1_D10_data[\"time (UTC)\"] = METBK1_D10_data[\"time (UTC)\"].apply(lambda x: pd.to_datetime(x))\n",
    "METBK1_D11_data[\"time (UTC)\"] = METBK1_D11_data[\"time (UTC)\"].apply(lambda x: pd.to_datetime(x))\n",
    "\n",
    "\n",
    "METBK1_D11_data = METBK1_D11_data.set_index(keys='time (UTC)')\n",
    "METBK1_D10_data= METBK1_D10_data.set_index(keys='time (UTC)')\n"
   ]
  },
  {
   "cell_type": "markdown",
   "id": "e13bc899-398e-49b7-a5fd-fa408bd2d62e",
   "metadata": {},
   "source": [
    "Similarly, we can click on the other data variable's attributes and learn that the other two variables we want are, the East Wind vector value and, the North Wind vector value.\n",
    "\n",
    "There remains one more step before we can get to plotting a comparison, and that is to calculate the vector wind speed average for comparison with the scalar wind speed. If we remember Calculus, we know that:\n",
    "\n",
    "$$\n",
    "\\|{U}\\| = \\sqrt{u^{2} + v^{2}}\n",
    "$$\n",
    "\n",
    "where $\\|{U}\\|$ is the magnitude of the wind speed, $u$ is the eastward vector wind speed, and $v$ is the northward vector wind speed. So we can go ahead and calculate that:"
   ]
  },
  {
   "cell_type": "code",
   "execution_count": null,
   "id": "b563f569-a72a-4207-9cf7-fd7525afdd35",
   "metadata": {
    "tags": []
   },
   "outputs": [],
   "source": [
    "wspd_METBK1_D10 = np.sqrt(METBK1_D10_data[\"northward_wind_velocity (m s-1)\"]**2 + METBK1_D10_data[\"eastward_wind_velocity (m s-1)\"]**2)\n",
    "\n",
    "wspd_METBK1_D11 = np.sqrt(METBK1_D11_data[\"northward_wind_velocity (m s-1)\"]**2 + METBK1_D11_data[\"eastward_wind_velocity (m s-1)\"]**2)\n",
    "\n",
    "# Add the calculated results\n",
    "METBK1_D10_data[\"wspd_MET1_D10\"] = wspd_METBK1_D10\n",
    "METBK1_D11_data[\"wspd_MET1_D11\"] = wspd_METBK1_D11"
   ]
  },
  {
   "cell_type": "code",
   "execution_count": null,
   "id": "9405b311-c3bf-4eb8-9529-9f3d2a796775",
   "metadata": {
    "tags": []
   },
   "outputs": [],
   "source": [
    "def resample_interpolate(df, freq='1min'):\n",
    "    \"\"\"Resample and interpolate a datetime index dataframe to new frequency\"\"\"\n",
    "    new_index = df.resample(freq).asfreq().index\n",
    "    tmp_index = df.index.union(new_index)\n",
    "    new_df = df.reindex(tmp_index).interpolate('index').reindex(new_index)\n",
    "    return new_df\n",
    "\n",
    "METBK1_D11_1min = resample_interpolate(METBK1_D11_data)\n",
    "\n",
    "METBK1_D11_1min = METBK1_D11_1min.loc[slice('2024-06-10 00:00:00','2024-06-11 07:00:00')]\n",
    "\n",
    "\n",
    "METBK1_D11_1min = METBK1_D11_1min.iloc[0:-1]"
   ]
  },
  {
   "cell_type": "code",
   "execution_count": null,
   "id": "c96b9861-40d3-4dee-b6d1-709985793221",
   "metadata": {
    "tags": []
   },
   "outputs": [],
   "source": [
    "# Now we can go ahead and plot the data\n",
    "#slice('2024-06-10 00:00:00' , '2024-06-11 7:00:00') # Known time for MET comparison\n",
    "fig, ax = plt.subplots(figsize=(12, 12))\n",
    "\n",
    "# Create a one:one line\n",
    "x = np.arange(0, 31, 1)\n",
    "y = np.arange(0, 31, 1)\n",
    "\n",
    "# Plot the one:one line\n",
    "ax.plot(x, y, color=\"black\", linewidth=2)\n",
    "\n",
    "\n",
    "# Plot the comparison\n",
    "ax.plot(METBK1_D11_1min[\"wspd_MET1_D11\"], METBK1_D10_1min[\"wspd_MET1_D10\"], marker='o', linestyle='', color=\"red\", alpha=0.3) # Alpha controls transparency, 1=solid, 0=transparent\n",
    "\n",
    "# Set some limits on the figure\n",
    "ax.set_xlim((0,25))\n",
    "ax.set_ylim((0,25))\n",
    "\n",
    "# Add in title, axis labels, and grid lines\n",
    "ax.set_title(f'Irminger Sea Deployment 10 & 11 METBK 1 Sensor S/N', fontsize=15) # f-strings are a way to substitute a variable into a string and have it print out\n",
    "ax.set_xlabel('2-axis Wind Speed (m/s) Deployment 11',fontsize=15)\n",
    "ax.set_ylabel('2-axis Wind Speed (m/s) Deployment 10',fontsize=15)\n",
    "ax.grid()"
   ]
  },
  {
   "cell_type": "markdown",
   "id": "820c08c2-6c07-47b4-8324-227987ae2a76",
   "metadata": {},
   "source": [
    "# Ship Adjusted Data\n",
    "\n",
    "Importing our Ship data and resampling to 1 minute and slicing to our desired time stamp for comparisons."
   ]
  },
  {
   "cell_type": "code",
   "execution_count": null,
   "id": "427688d2-daae-40f8-b42d-46dfc18a4e1c",
   "metadata": {
    "tags": []
   },
   "outputs": [],
   "source": [
    "# Load in your ship data set\n",
    "underway_june10_june11 = \"/home/jovyan/wind_comparison/Ship_Buoy_Comparison/underway_june10_june11.csv\"\n",
    "underway_data = pd.read_csv(underway_june10_june11)"
   ]
  },
  {
   "cell_type": "code",
   "execution_count": null,
   "id": "2d80ac01-810a-4ace-a4fc-38d04add5b75",
   "metadata": {
    "tags": []
   },
   "outputs": [],
   "source": [
    "# Examine your data set\n",
    "underway_data"
   ]
  },
  {
   "cell_type": "code",
   "execution_count": null,
   "id": "95324ad6-3762-4218-8bc3-760a89ee85a7",
   "metadata": {
    "tags": []
   },
   "outputs": [],
   "source": [
    "# Set Date Time Index\n",
    "underway_data[\"time\"] = underway_data[\"time\"].apply(lambda x: pd.to_datetime(x))\n",
    "\n",
    "underway_data = underway_data.set_index(keys='time')\n",
    "\n",
    "# Resample Interpolation\n",
    "def resample_interpolate(df, freq='1min'):\n",
    "    \"\"\"Resample and interpolate a datetime index dataframe to new frequency\"\"\"\n",
    "    new_index = df.resample(freq).asfreq().index\n",
    "    tmp_index = df.index.union(new_index)\n",
    "    new_df = df.reindex(tmp_index).interpolate('index').reindex(new_index)\n",
    "    return new_df\n",
    "\n",
    "# Assign\n",
    "underway_data_1min = resample_interpolate(underway_data)\n",
    "\n",
    "#SLice our data to time stamps\n",
    "#Ship_adj_data_1min.loc[slice('2024-06-10 00:00:00','2024-06-11 07:00:00')]"
   ]
  },
  {
   "cell_type": "code",
   "execution_count": null,
   "id": "c2ed4b73-e817-46ad-89cd-fb151468d4f1",
   "metadata": {
    "tags": []
   },
   "outputs": [],
   "source": [
    "underway_data_1min"
   ]
  },
  {
   "cell_type": "code",
   "execution_count": null,
   "id": "f0d08218-60c8-4086-85d0-64e9994c0b54",
   "metadata": {
    "tags": []
   },
   "outputs": [],
   "source": [
    "# Now we can go ahead and plot the data\n",
    "fig, ax = plt.subplots(figsize=(12, 12))\n",
    "\n",
    "# Create a one:one line\n",
    "x = np.arange(0, 31, 1)\n",
    "y = np.arange(0, 31, 1)\n",
    "\n",
    "# Plot the one:one line\n",
    "ax.plot(x, y, color=\"black\", linewidth=2)\n",
    "\n",
    "\n",
    "# Plot the comparison\n",
    "ax.plot(underway_data_1min[\"adj_wind_speed_starboard\"], underway_data_1min[\"adj_wind_speed_port\"], marker='o', linestyle='', color=\"red\", alpha=0.3) # Alpha controls transparency, 1=solid, 0=transparent\n",
    "\n",
    "# Set some limits on the figure\n",
    "ax.set_xlim((2,17.5))\n",
    "ax.set_ylim((2,17.5))\n",
    "\n",
    "# Add in title, axis labels, and grid lines\n",
    "ax.set_title(f'Irminger Sea 11 Ship Sensor Vaisala WXT520 Comparison', fontsize=15) # f-strings are a way to substitute a variable into a string and have it print out\n",
    "ax.set_xlabel(' Vaisala WXT520 Wind Speed (m/s) Starboard',fontsize=15)\n",
    "ax.set_ylabel('Vaisala WXT520 Wind Speed (m/s) Port',fontsize=15)\n",
    "ax.grid()"
   ]
  },
  {
   "cell_type": "markdown",
   "id": "8e7e45d4-3e8c-4c6b-9178-7dcea66f93d9",
   "metadata": {},
   "source": [
    "# METBK1 vs Ship Sensors"
   ]
  },
  {
   "cell_type": "code",
   "execution_count": null,
   "id": "504f14b6-63da-4c1e-b31c-c83722948b4c",
   "metadata": {
    "tags": []
   },
   "outputs": [],
   "source": [
    "# Now we can go ahead and plot the data\n",
    "fig, ax = plt.subplots(figsize=(12, 12))\n",
    "\n",
    "# Create a one:one line\n",
    "x = np.arange(0, 31, 1)\n",
    "y = np.arange(0, 31, 1)\n",
    "\n",
    "# Plot the one:one line\n",
    "ax.plot(x, y, color=\"black\", linewidth=2)\n",
    "\n",
    "\n",
    "# Plot the comparison\n",
    "ax.plot(underway_data_1min[\"adj_wind_speed_port\"], METBK1_D10_1min[\"wspd_MET1_D10\"], marker='o', linestyle='', color=\"red\", alpha=0.3) # Alpha controls transparency, 1=solid, 0=transparent\n",
    "\n",
    "# Set some limits on the figure\n",
    "ax.set_xlim((2,17.5))\n",
    "ax.set_ylim((2,17.5))\n",
    "\n",
    "# Add in title, axis labels, and grid lines\n",
    "ax.set_title(f'Irminger Sea 11 METBK1 vs. Ship Sensor Comparison', fontsize=15) # f-strings are a way to substitute a variable into a string and have it print out\n",
    "ax.set_xlabel('Vaisala WXT520 Wind Speed (m/s) Ship Port Sensor',fontsize=15)\n",
    "ax.set_ylabel('2-axis Wind Speed (m/s) METBK1 Deployment 10',fontsize=15)\n",
    "ax.grid()"
   ]
  },
  {
   "cell_type": "code",
   "execution_count": null,
   "id": "6f187cd8-0885-4877-95b4-50f17ca2c1d4",
   "metadata": {
    "tags": []
   },
   "outputs": [],
   "source": [
    "# Now we can go ahead and plot the data\n",
    "fig, ax = plt.subplots(figsize=(12, 12))\n",
    "\n",
    "# Create a one:one line\n",
    "x = np.arange(0, 31, 1)\n",
    "y = np.arange(0, 31, 1)\n",
    "\n",
    "# Plot the one:one line\n",
    "ax.plot(x, y, color=\"black\", linewidth=2)\n",
    "\n",
    "\n",
    "# Plot the comparison\n",
    "ax.plot(underway_data_1min[\"adj_wind_speed_starboard\"], METBK1_D10_1min[\"wspd_MET1_D10\"], marker='o', linestyle='', color=\"red\", alpha=0.3) # Alpha controls transparency, 1=solid, 0=transparent\n",
    "\n",
    "# Set some limits on the figure\n",
    "ax.set_xlim((2,17.5))\n",
    "ax.set_ylim((2,17.5))\n",
    "\n",
    "# Add in title, axis labels, and grid lines\n",
    "ax.set_title(f'Irminger Sea 11 METBK1 Deployment Starboard Ship Sensor Comparison', fontsize=15) # f-strings are a way to substitute a variable into a string and have it print out\n",
    "ax.set_xlabel('Vaisala WXT520 Wind Speed (m/s) Ship Starboard Sensor',fontsize=15)\n",
    "ax.set_ylabel('2-axis Wind Speed (m/s) METBK1 Deployment 10',fontsize=15)\n",
    "ax.grid()"
   ]
  },
  {
   "cell_type": "code",
   "execution_count": null,
   "id": "e151d866-af3c-4e56-aa53-2467b174b71c",
   "metadata": {
    "tags": []
   },
   "outputs": [],
   "source": [
    "# Now we can go ahead and plot the data\n",
    "fig, ax = plt.subplots(figsize=(12, 12))\n",
    "\n",
    "# Create a one:one line\n",
    "x = np.arange(0, 31, 1)\n",
    "y = np.arange(0, 31, 1)\n",
    "\n",
    "# Plot the one:one line\n",
    "ax.plot(x, y, color=\"black\", linewidth=2)\n",
    "\n",
    "\n",
    "# Plot the comparison\n",
    "ax.plot(underway_data_1min[\"adj_wind_speed_starboard\"], METBK1_D11_1min[\"wspd_MET1_D11\"], marker='o', linestyle='', color=\"red\", alpha=0.3) # Alpha controls transparency, 1=solid, 0=transparent\n",
    "\n",
    "# Set some limits on the figure\n",
    "ax.set_xlim((2,17.5))\n",
    "ax.set_ylim((2,17.5))\n",
    "\n",
    "# Add in title, axis labels, and grid lines\n",
    "ax.set_title(f'Irminger Sea 11 METBK1 Deployment Starboard Ship Sensor Comparison', fontsize=15) # f-strings are a way to substitute a variable into a string and have it print out\n",
    "ax.set_xlabel('Vaisala WXT520 Wind Speed (m/s) Ship Starboard Sensor',fontsize=15)\n",
    "ax.set_ylabel('2-axis Wind Speed (m/s) METBK1 Deployment 11',fontsize=15)\n",
    "ax.grid()"
   ]
  },
  {
   "cell_type": "code",
   "execution_count": null,
   "id": "c4c8184a-0e8f-468f-97e8-046f0b28a417",
   "metadata": {
    "tags": []
   },
   "outputs": [],
   "source": [
    "# Now we can go ahead and plot the data\n",
    "fig, ax = plt.subplots(figsize=(12, 12))\n",
    "\n",
    "# Create a one:one line\n",
    "x = np.arange(0, 31, 1)\n",
    "y = np.arange(0, 31, 1)\n",
    "\n",
    "# Plot the one:one line\n",
    "ax.plot(x, y, color=\"black\", linewidth=2)\n",
    "\n",
    "\n",
    "# Plot the comparison\n",
    "ax.plot(underway_data_1min[\"adj_wind_speed_port\"], METBK1_D11_1min[\"wspd_MET1_D11\"], marker='o', linestyle='', color=\"red\", alpha=0.3) # Alpha controls transparency, 1=solid, 0=transparent\n",
    "\n",
    "# Set some limits on the figure\n",
    "ax.set_xlim((2,17.5))\n",
    "ax.set_ylim((2,17.5))\n",
    "\n",
    "# Add in title, axis labels, and grid lines\n",
    "ax.set_title(f'Irminger Sea 11 METBK1 Deployment Starboard Ship Sensor Comparison', fontsize=15) # f-strings are a way to substitute a variable into a string and have it print out\n",
    "ax.set_xlabel('Vaisala WXT520 Wind Speed (m/s) Ship Port Sensor',fontsize=15)\n",
    "ax.set_ylabel('2-axis Wind Speed (m/s) METBK1 Deployment 11',fontsize=15)\n",
    "ax.grid()"
   ]
  },
  {
   "cell_type": "markdown",
   "id": "82bddf21-7a4a-44eb-aa12-4c05fd361d61",
   "metadata": {},
   "source": [
    "# METBK 2 vs Ship Sensors"
   ]
  },
  {
   "cell_type": "code",
   "execution_count": null,
   "id": "8cc7e26b-67eb-41b2-a4f2-0fafa87a9c74",
   "metadata": {
    "tags": []
   },
   "outputs": [],
   "source": [
    "METBK2_D11_data"
   ]
  },
  {
   "cell_type": "code",
   "execution_count": null,
   "id": "5e16383d-2337-4920-b7c5-7eb65878fc8d",
   "metadata": {
    "tags": []
   },
   "outputs": [],
   "source": [
    "# Calcultate the Magnitute\n",
    "METBK2_D11_wspd = np.sqrt(METBK2_D11_data[\"northward_wind_velocity (m s-1)\"]**2 + METBK2_D11_data[\"eastward_wind_velocity (m s-1)\"]**2)\n",
    "\n",
    "# Add wind speed to dataset\n",
    "METBK2_D11_data[\"METBK2_D11_wspd\"] = METBK2_D11_wspd\n",
    "\n",
    "\n",
    "#METBK2_D11_data = METBK2_D11_data.set_index(keys='time (UTC)')\n"
   ]
  },
  {
   "cell_type": "code",
   "execution_count": null,
   "id": "9017d0bf-37d8-4be1-83f1-d92929ff02c2",
   "metadata": {
    "tags": []
   },
   "outputs": [],
   "source": [
    "# Set Date Time Index\n",
    "METBK2_D11_data[\"time\"] = METBK2_D11_data[\"time\"].apply(lambda x: pd.to_datetime(x))\n",
    "\n",
    "METBK2_D11_data = METBK2_D11_data.set_index(keys='time')\n",
    "\n",
    "# Resample Interpolation\n",
    "def resample_interpolate(df, freq='1min'):\n",
    "    \"\"\"Resample and interpolate a datetime index dataframe to new frequency\"\"\"\n",
    "    new_index = df.resample(freq).asfreq().index\n",
    "    tmp_index = df.index.union(new_index)\n",
    "    new_df = df.reindex(tmp_index).interpolate('index').reindex(new_index)\n",
    "    return new_df\n",
    "\n",
    "# Assign\n",
    "METBK2_D11_data_1min = resample_interpolate(METBK2_D11_data)\n",
    "\n",
    "#SLice our data to time stamps\n",
    "METBK2_D11_data_1min = METBK2_D11_data_1min.loc[slice('2024-06-10 00:00:00','2024-06-11 07:00:00')]"
   ]
  },
  {
   "cell_type": "code",
   "execution_count": null,
   "id": "16d5f2ec-05ff-47e3-aed8-4d0780f2670c",
   "metadata": {
    "tags": []
   },
   "outputs": [],
   "source": [
    "METBK2_D11_data_1min"
   ]
  },
  {
   "cell_type": "code",
   "execution_count": null,
   "id": "c36fc9bf-9e25-4862-b377-1b25d47fd241",
   "metadata": {
    "tags": []
   },
   "outputs": [],
   "source": [
    "METBK2_D11_data_1min = METBK2_D11_data_1min.loc[slice('2024-06-10 00:00:00','2024-06-11 07:00:00')]\n",
    "METBK2_D11_data_1min = METBK2_D11_data_1min.iloc[0:-1]"
   ]
  },
  {
   "cell_type": "code",
   "execution_count": null,
   "id": "53b5df12-01e1-4fd9-b8ed-e3c71e65ce71",
   "metadata": {
    "tags": []
   },
   "outputs": [],
   "source": [
    "# Now we can go ahead and plot the data\n",
    "fig, ax = plt.subplots(figsize=(12, 12))\n",
    "\n",
    "# Create a one:one line\n",
    "x = np.arange(0, 31, 1)\n",
    "y = np.arange(0, 31, 1)\n",
    "\n",
    "# Plot the one:one line\n",
    "ax.plot(x, y, color=\"black\", linewidth=2)\n",
    "\n",
    "\n",
    "# Plot the comparison\n",
    "ax.plot(underway_data_1min[\"adj_wind_speed_port\"], METBK2_D11_data_1min[\"METBK2_D11_wspd\"], marker='o', linestyle='', color=\"red\", alpha=0.3) # Alpha controls transparency, 1=solid, 0=transparent\n",
    "\n",
    "# Set some limits on the figure\n",
    "ax.set_xlim((2,17.5))\n",
    "ax.set_ylim((2,17.5))\n",
    "\n",
    "# Add in title, axis labels, and grid lines\n",
    "ax.set_title(f'Irminger Sea Deployment 10 & 11 Ship vs. Buoy METBK 1 Sensor S/N', fontsize=15) # f-strings are a way to substitute a variable into a string and have it print out\n",
    "ax.set_xlabel(' 1 minute Resampled Ship Data',fontsize=15)\n",
    "ax.set_ylabel('1 minute Resampled METBK1 D11 data',fontsize=15)\n",
    "ax.grid()"
   ]
  },
  {
   "cell_type": "code",
   "execution_count": null,
   "id": "acc38d0d-9931-45ef-8a84-3329558f967e",
   "metadata": {
    "tags": []
   },
   "outputs": [],
   "source": [
    "# Now we can go ahead and plot the data\n",
    "fig, ax = plt.subplots(figsize=(12, 12))\n",
    "\n",
    "# Create a one:one line\n",
    "x = np.arange(0, 31, 1)\n",
    "y = np.arange(0, 31, 1)\n",
    "\n",
    "# Plot the one:one line\n",
    "ax.plot(x, y, color=\"black\", linewidth=2)\n",
    "\n",
    "\n",
    "# Plot the comparison\n",
    "ax.plot(Ship_adj_data_1min_mean[\"adj_wind_speed_starboard\"], METBK2_D11_1min_mean[\"METBK2_D11_wspd\"], marker='o', linestyle='', color=\"red\", alpha=0.3) # Alpha controls transparency, 1=solid, 0=transparent\n",
    "\n",
    "# Set some limits on the figure\n",
    "ax.set_xlim((2,17.5))\n",
    "ax.set_ylim((2,17.5))\n",
    "\n",
    "# Add in title, axis labels, and grid lines\n",
    "ax.set_title(f'Irminger Sea Deployment 10 & 11 Ship vs. Buoy METBK 1 Sensor S/N', fontsize=15) # f-strings are a way to substitute a variable into a string and have it print out\n",
    "ax.set_xlabel(' 1 minute Resampled Ship Data',fontsize=15)\n",
    "ax.set_ylabel('1 minute Resampled METBK1 D10 data',fontsize=15)\n",
    "ax.grid()"
   ]
  },
  {
   "cell_type": "markdown",
   "id": "71e508fa-d789-4271-bdca-33731ddc28c9",
   "metadata": {},
   "source": [
    "# FDCHP vs Ship Sensors"
   ]
  },
  {
   "cell_type": "code",
   "execution_count": null,
   "id": "19e6e95f-2181-42de-8d51-541a633ba34c",
   "metadata": {
    "tags": []
   },
   "outputs": [],
   "source": [
    "FDCHP1_D11_data"
   ]
  },
  {
   "cell_type": "code",
   "execution_count": null,
   "id": "9d36a1c9-512b-4ee5-be16-fae8dabca70a",
   "metadata": {
    "tags": []
   },
   "outputs": [],
   "source": [
    "# Set Date Time Index\n",
    "FDCHP1_D11_data[\"time (UTC)\"] = FDCHP1_D11_data[\"time (UTC)\"].apply(lambda x: pd.to_datetime(x))\n",
    "\n",
    "FDCHP1_D11_data = FDCHP1_D11_data.set_index(keys='time (UTC)')\n",
    "\n",
    "# Resample Interpolation\n",
    "def resample_interpolate(df, freq='1min'):\n",
    "    \"\"\"Resample and interpolate a datetime index dataframe to new frequency\"\"\"\n",
    "    new_index = df.resample(freq).asfreq().index\n",
    "    tmp_index = df.index.union(new_index)\n",
    "    new_df = df.reindex(tmp_index).interpolate('index').reindex(new_index)\n",
    "    return new_df\n",
    "\n",
    "# Assign\n",
    "FDCHP1_D11_data_1min = resample_interpolate(FDCHP1_D11_data)"
   ]
  },
  {
   "cell_type": "code",
   "execution_count": null,
   "id": "9048ad3c-6e20-47be-9d9c-a16203d018e5",
   "metadata": {
    "tags": []
   },
   "outputs": [],
   "source": [
    "FDCHP1_D11_data_1min = FDCHP1_D11_data_1min.iloc[0:-1]"
   ]
  },
  {
   "cell_type": "code",
   "execution_count": null,
   "id": "9253b5c4-cd53-4f83-bd99-6126a8223af7",
   "metadata": {
    "tags": []
   },
   "outputs": [],
   "source": [
    "underway_data_1min"
   ]
  },
  {
   "cell_type": "code",
   "execution_count": null,
   "id": "7f3758a0-23fe-402d-9133-5964c051bd83",
   "metadata": {
    "tags": []
   },
   "outputs": [],
   "source": [
    "#SLice our data to time stamps\n",
    "FDCHP1_D11_data_1min = FDCHP1_D11_data_1min.loc[slice('2024-06-10 00:00:00','2024-06-11 07:00:00')]\n",
    "FDCHP1_D11_data_1min"
   ]
  },
  {
   "cell_type": "code",
   "execution_count": null,
   "id": "80ad5c0f-d172-4b1b-8b0e-7ab17a6b716a",
   "metadata": {
    "tags": []
   },
   "outputs": [],
   "source": [
    "# Now we can go ahead and plot the data\n",
    "fig, ax = plt.subplots(figsize=(12, 12))\n",
    "\n",
    "# Create a one:one line\n",
    "x = np.arange(0, 31, 1)\n",
    "y = np.arange(0, 31, 1)\n",
    "\n",
    "# Plot the one:one line\n",
    "ax.plot(x, y, color=\"black\", linewidth=2)\n",
    "\n",
    "\n",
    "# Plot the comparison\n",
    "ax.plot(underway_data_1min[\"adj_wind_speed_starboard\"], FDCHP1_D11_data_1min[\"wind_speed\"], marker='o', linestyle='', color=\"red\", alpha=0.3) # Alpha controls transparency, 1=solid, 0=transparent\n",
    "\n",
    "# Set some limits on the figure\n",
    "ax.set_xlim((2,17.5))\n",
    "ax.set_ylim((2,17.5))\n",
    "\n",
    "# Add in title, axis labels, and grid lines\n",
    "ax.set_title(f'Irminger Sea Deployment 10 & 11 Ship vs. Buoy METBK 1 Sensor S/N', fontsize=15) # f-strings are a way to substitute a variable into a string and have it print out\n",
    "ax.set_xlabel(' 1 minute Resampled Ship Data',fontsize=15)\n",
    "ax.set_ylabel('1 minute Resampled METBK1 D10 data',fontsize=15)\n",
    "ax.grid()"
   ]
  },
  {
   "cell_type": "code",
   "execution_count": null,
   "id": "0c1ad1e3-56ce-4596-93d8-88b435ca0df1",
   "metadata": {},
   "outputs": [],
   "source": []
  }
 ],
 "metadata": {
  "kernelspec": {
   "display_name": "pep2024",
   "language": "python",
   "name": "pep2024"
  },
  "language_info": {
   "codemirror_mode": {
    "name": "ipython",
    "version": 3
   },
   "file_extension": ".py",
   "mimetype": "text/x-python",
   "name": "python",
   "nbconvert_exporter": "python",
   "pygments_lexer": "ipython3",
   "version": "3.12.3"
  }
 },
 "nbformat": 4,
 "nbformat_minor": 5
}
